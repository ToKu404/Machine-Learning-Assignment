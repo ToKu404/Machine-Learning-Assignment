{
  "nbformat": 4,
  "nbformat_minor": 0,
  "metadata": {
    "colab": {
      "name": "Untitled11.ipynb",
      "provenance": []
    },
    "kernelspec": {
      "name": "python3",
      "display_name": "Python 3"
    },
    "language_info": {
      "name": "python"
    }
  },
  "cells": [
    {
      "cell_type": "markdown",
      "metadata": {
        "id": "Jk7vWvS6rVoM"
      },
      "source": [
        "# Tugas 04 - Naive Bayes & Bayessian Network\n",
        "\n",
        "Nama : Muh.Ikhsan\n",
        "\n",
        "NIM  : H071191049"
      ]
    },
    {
      "cell_type": "code",
      "metadata": {
        "id": "vO1_azJWORfV"
      },
      "source": [
        "import pandas as pd\n",
        "import matplotlib.pyplot as plt\n",
        "import numpy as np\n",
        "import seaborn as sns\n",
        "import sklearn as skl\n",
        "from sklearn.model_selection import train_test_split"
      ],
      "execution_count": 1,
      "outputs": []
    },
    {
      "cell_type": "markdown",
      "metadata": {
        "id": "ryd8tGEObcUA"
      },
      "source": [
        "Dataset Heart Disease UCI\n",
        "\n",
        "source : https://www.kaggle.com/ronitf/heart-disease-uci\n",
        "\n",
        "Keterangan variabel :\n",
        "- age: umur (tahun)\n",
        "- sex: jenis kelamin (1 = laki-laki; 0 = perempuan)\n",
        "- cp: tipe nyeri dada\n",
        "- trestbps: tekanan darah istirahat (dalam mm Hg saat masuk ke rumah sakit)\n",
        "- kol: kolestoral dalam mg / dl\n",
        "- fbs : gula darah puasa> 120 mg / dl → (1 = benar; 0 = salah)\n",
        "- restecg: hasil elektrokardiografi istirahat (0,1,2)\n",
        "- thalach: detak jantung maksimum\n",
        "- exang: angina yang diinduksi olahraga (1 = ya; 0 = tidak)\n",
        "- oldpeak: ST depresi yang disebabkan oleh olahraga relatif terhadap istirahat\n",
        "- slope: kemiringan segmen ST latihan puncak\n",
        "- ca: jumlah pembuluh darah utama (0–3) diwarnai dengan fluoroskopi\n",
        "- thal: 3 = biasa; 6 = cacat tetap; 7 = cacat reversibel\n",
        "- target: memiliki penyakit atau tidak (1 = ya, 0 = tidak)"
      ]
    },
    {
      "cell_type": "code",
      "metadata": {
        "colab": {
          "base_uri": "https://localhost:8080/",
          "height": 203
        },
        "id": "cABK15DVOadV",
        "outputId": "e9f63428-fc33-4c72-e19c-28a25db2f8f0"
      },
      "source": [
        "df = pd.read_csv(\"/content/drive/MyDrive/Dataset/heart.csv\")\n",
        "df.head()"
      ],
      "execution_count": 2,
      "outputs": [
        {
          "output_type": "execute_result",
          "data": {
            "text/html": [
              "<div>\n",
              "<style scoped>\n",
              "    .dataframe tbody tr th:only-of-type {\n",
              "        vertical-align: middle;\n",
              "    }\n",
              "\n",
              "    .dataframe tbody tr th {\n",
              "        vertical-align: top;\n",
              "    }\n",
              "\n",
              "    .dataframe thead th {\n",
              "        text-align: right;\n",
              "    }\n",
              "</style>\n",
              "<table border=\"1\" class=\"dataframe\">\n",
              "  <thead>\n",
              "    <tr style=\"text-align: right;\">\n",
              "      <th></th>\n",
              "      <th>age</th>\n",
              "      <th>sex</th>\n",
              "      <th>cp</th>\n",
              "      <th>trestbps</th>\n",
              "      <th>chol</th>\n",
              "      <th>fbs</th>\n",
              "      <th>restecg</th>\n",
              "      <th>thalach</th>\n",
              "      <th>exang</th>\n",
              "      <th>oldpeak</th>\n",
              "      <th>slope</th>\n",
              "      <th>ca</th>\n",
              "      <th>thal</th>\n",
              "      <th>target</th>\n",
              "    </tr>\n",
              "  </thead>\n",
              "  <tbody>\n",
              "    <tr>\n",
              "      <th>0</th>\n",
              "      <td>63</td>\n",
              "      <td>1</td>\n",
              "      <td>3</td>\n",
              "      <td>145</td>\n",
              "      <td>233</td>\n",
              "      <td>1</td>\n",
              "      <td>0</td>\n",
              "      <td>150</td>\n",
              "      <td>0</td>\n",
              "      <td>2.3</td>\n",
              "      <td>0</td>\n",
              "      <td>0</td>\n",
              "      <td>1</td>\n",
              "      <td>1</td>\n",
              "    </tr>\n",
              "    <tr>\n",
              "      <th>1</th>\n",
              "      <td>37</td>\n",
              "      <td>1</td>\n",
              "      <td>2</td>\n",
              "      <td>130</td>\n",
              "      <td>250</td>\n",
              "      <td>0</td>\n",
              "      <td>1</td>\n",
              "      <td>187</td>\n",
              "      <td>0</td>\n",
              "      <td>3.5</td>\n",
              "      <td>0</td>\n",
              "      <td>0</td>\n",
              "      <td>2</td>\n",
              "      <td>1</td>\n",
              "    </tr>\n",
              "    <tr>\n",
              "      <th>2</th>\n",
              "      <td>41</td>\n",
              "      <td>0</td>\n",
              "      <td>1</td>\n",
              "      <td>130</td>\n",
              "      <td>204</td>\n",
              "      <td>0</td>\n",
              "      <td>0</td>\n",
              "      <td>172</td>\n",
              "      <td>0</td>\n",
              "      <td>1.4</td>\n",
              "      <td>2</td>\n",
              "      <td>0</td>\n",
              "      <td>2</td>\n",
              "      <td>1</td>\n",
              "    </tr>\n",
              "    <tr>\n",
              "      <th>3</th>\n",
              "      <td>56</td>\n",
              "      <td>1</td>\n",
              "      <td>1</td>\n",
              "      <td>120</td>\n",
              "      <td>236</td>\n",
              "      <td>0</td>\n",
              "      <td>1</td>\n",
              "      <td>178</td>\n",
              "      <td>0</td>\n",
              "      <td>0.8</td>\n",
              "      <td>2</td>\n",
              "      <td>0</td>\n",
              "      <td>2</td>\n",
              "      <td>1</td>\n",
              "    </tr>\n",
              "    <tr>\n",
              "      <th>4</th>\n",
              "      <td>57</td>\n",
              "      <td>0</td>\n",
              "      <td>0</td>\n",
              "      <td>120</td>\n",
              "      <td>354</td>\n",
              "      <td>0</td>\n",
              "      <td>1</td>\n",
              "      <td>163</td>\n",
              "      <td>1</td>\n",
              "      <td>0.6</td>\n",
              "      <td>2</td>\n",
              "      <td>0</td>\n",
              "      <td>2</td>\n",
              "      <td>1</td>\n",
              "    </tr>\n",
              "  </tbody>\n",
              "</table>\n",
              "</div>"
            ],
            "text/plain": [
              "   age  sex  cp  trestbps  chol  fbs  ...  exang  oldpeak  slope  ca  thal  target\n",
              "0   63    1   3       145   233    1  ...      0      2.3      0   0     1       1\n",
              "1   37    1   2       130   250    0  ...      0      3.5      0   0     2       1\n",
              "2   41    0   1       130   204    0  ...      0      1.4      2   0     2       1\n",
              "3   56    1   1       120   236    0  ...      0      0.8      2   0     2       1\n",
              "4   57    0   0       120   354    0  ...      1      0.6      2   0     2       1\n",
              "\n",
              "[5 rows x 14 columns]"
            ]
          },
          "metadata": {},
          "execution_count": 2
        }
      ]
    },
    {
      "cell_type": "code",
      "metadata": {
        "colab": {
          "base_uri": "https://localhost:8080/",
          "height": 203
        },
        "id": "CWGhPr8nO3q9",
        "outputId": "63980bf5-68ed-47b1-b164-740e860eaecf"
      },
      "source": [
        "df.tail()"
      ],
      "execution_count": 3,
      "outputs": [
        {
          "output_type": "execute_result",
          "data": {
            "text/html": [
              "<div>\n",
              "<style scoped>\n",
              "    .dataframe tbody tr th:only-of-type {\n",
              "        vertical-align: middle;\n",
              "    }\n",
              "\n",
              "    .dataframe tbody tr th {\n",
              "        vertical-align: top;\n",
              "    }\n",
              "\n",
              "    .dataframe thead th {\n",
              "        text-align: right;\n",
              "    }\n",
              "</style>\n",
              "<table border=\"1\" class=\"dataframe\">\n",
              "  <thead>\n",
              "    <tr style=\"text-align: right;\">\n",
              "      <th></th>\n",
              "      <th>age</th>\n",
              "      <th>sex</th>\n",
              "      <th>cp</th>\n",
              "      <th>trestbps</th>\n",
              "      <th>chol</th>\n",
              "      <th>fbs</th>\n",
              "      <th>restecg</th>\n",
              "      <th>thalach</th>\n",
              "      <th>exang</th>\n",
              "      <th>oldpeak</th>\n",
              "      <th>slope</th>\n",
              "      <th>ca</th>\n",
              "      <th>thal</th>\n",
              "      <th>target</th>\n",
              "    </tr>\n",
              "  </thead>\n",
              "  <tbody>\n",
              "    <tr>\n",
              "      <th>298</th>\n",
              "      <td>57</td>\n",
              "      <td>0</td>\n",
              "      <td>0</td>\n",
              "      <td>140</td>\n",
              "      <td>241</td>\n",
              "      <td>0</td>\n",
              "      <td>1</td>\n",
              "      <td>123</td>\n",
              "      <td>1</td>\n",
              "      <td>0.2</td>\n",
              "      <td>1</td>\n",
              "      <td>0</td>\n",
              "      <td>3</td>\n",
              "      <td>0</td>\n",
              "    </tr>\n",
              "    <tr>\n",
              "      <th>299</th>\n",
              "      <td>45</td>\n",
              "      <td>1</td>\n",
              "      <td>3</td>\n",
              "      <td>110</td>\n",
              "      <td>264</td>\n",
              "      <td>0</td>\n",
              "      <td>1</td>\n",
              "      <td>132</td>\n",
              "      <td>0</td>\n",
              "      <td>1.2</td>\n",
              "      <td>1</td>\n",
              "      <td>0</td>\n",
              "      <td>3</td>\n",
              "      <td>0</td>\n",
              "    </tr>\n",
              "    <tr>\n",
              "      <th>300</th>\n",
              "      <td>68</td>\n",
              "      <td>1</td>\n",
              "      <td>0</td>\n",
              "      <td>144</td>\n",
              "      <td>193</td>\n",
              "      <td>1</td>\n",
              "      <td>1</td>\n",
              "      <td>141</td>\n",
              "      <td>0</td>\n",
              "      <td>3.4</td>\n",
              "      <td>1</td>\n",
              "      <td>2</td>\n",
              "      <td>3</td>\n",
              "      <td>0</td>\n",
              "    </tr>\n",
              "    <tr>\n",
              "      <th>301</th>\n",
              "      <td>57</td>\n",
              "      <td>1</td>\n",
              "      <td>0</td>\n",
              "      <td>130</td>\n",
              "      <td>131</td>\n",
              "      <td>0</td>\n",
              "      <td>1</td>\n",
              "      <td>115</td>\n",
              "      <td>1</td>\n",
              "      <td>1.2</td>\n",
              "      <td>1</td>\n",
              "      <td>1</td>\n",
              "      <td>3</td>\n",
              "      <td>0</td>\n",
              "    </tr>\n",
              "    <tr>\n",
              "      <th>302</th>\n",
              "      <td>57</td>\n",
              "      <td>0</td>\n",
              "      <td>1</td>\n",
              "      <td>130</td>\n",
              "      <td>236</td>\n",
              "      <td>0</td>\n",
              "      <td>0</td>\n",
              "      <td>174</td>\n",
              "      <td>0</td>\n",
              "      <td>0.0</td>\n",
              "      <td>1</td>\n",
              "      <td>1</td>\n",
              "      <td>2</td>\n",
              "      <td>0</td>\n",
              "    </tr>\n",
              "  </tbody>\n",
              "</table>\n",
              "</div>"
            ],
            "text/plain": [
              "     age  sex  cp  trestbps  chol  fbs  ...  exang  oldpeak  slope  ca  thal  target\n",
              "298   57    0   0       140   241    0  ...      1      0.2      1   0     3       0\n",
              "299   45    1   3       110   264    0  ...      0      1.2      1   0     3       0\n",
              "300   68    1   0       144   193    1  ...      0      3.4      1   2     3       0\n",
              "301   57    1   0       130   131    0  ...      1      1.2      1   1     3       0\n",
              "302   57    0   1       130   236    0  ...      0      0.0      1   1     2       0\n",
              "\n",
              "[5 rows x 14 columns]"
            ]
          },
          "metadata": {},
          "execution_count": 3
        }
      ]
    },
    {
      "cell_type": "markdown",
      "metadata": {
        "id": "P2bF1vvGe9SW"
      },
      "source": [
        "Melihat dimensi"
      ]
    },
    {
      "cell_type": "code",
      "metadata": {
        "colab": {
          "base_uri": "https://localhost:8080/"
        },
        "id": "oXhIhLdUO87w",
        "outputId": "7ff5a316-4353-46ad-ca16-b640e4659160"
      },
      "source": [
        "df.shape"
      ],
      "execution_count": 4,
      "outputs": [
        {
          "output_type": "execute_result",
          "data": {
            "text/plain": [
              "(303, 14)"
            ]
          },
          "metadata": {},
          "execution_count": 4
        }
      ]
    },
    {
      "cell_type": "markdown",
      "metadata": {
        "id": "TpoodMG8e8S2"
      },
      "source": [
        "Melihat info"
      ]
    },
    {
      "cell_type": "code",
      "metadata": {
        "colab": {
          "base_uri": "https://localhost:8080/"
        },
        "id": "ppio7OAWcdLL",
        "outputId": "99595fed-0179-4957-d3c6-9c61389f6d90"
      },
      "source": [
        "df.info()"
      ],
      "execution_count": 5,
      "outputs": [
        {
          "output_type": "stream",
          "name": "stdout",
          "text": [
            "<class 'pandas.core.frame.DataFrame'>\n",
            "RangeIndex: 303 entries, 0 to 302\n",
            "Data columns (total 14 columns):\n",
            " #   Column    Non-Null Count  Dtype  \n",
            "---  ------    --------------  -----  \n",
            " 0   age       303 non-null    int64  \n",
            " 1   sex       303 non-null    int64  \n",
            " 2   cp        303 non-null    int64  \n",
            " 3   trestbps  303 non-null    int64  \n",
            " 4   chol      303 non-null    int64  \n",
            " 5   fbs       303 non-null    int64  \n",
            " 6   restecg   303 non-null    int64  \n",
            " 7   thalach   303 non-null    int64  \n",
            " 8   exang     303 non-null    int64  \n",
            " 9   oldpeak   303 non-null    float64\n",
            " 10  slope     303 non-null    int64  \n",
            " 11  ca        303 non-null    int64  \n",
            " 12  thal      303 non-null    int64  \n",
            " 13  target    303 non-null    int64  \n",
            "dtypes: float64(1), int64(13)\n",
            "memory usage: 33.3 KB\n"
          ]
        }
      ]
    },
    {
      "cell_type": "markdown",
      "metadata": {
        "id": "X0qHY0HXe-_S"
      },
      "source": [
        "Mekihat dari data berapa pasien yang mengidap penyakit jantung"
      ]
    },
    {
      "cell_type": "code",
      "metadata": {
        "colab": {
          "base_uri": "https://localhost:8080/"
        },
        "id": "M37C9M3ici2T",
        "outputId": "c6ba6cdc-a6af-4586-f0e0-44e8da5782ac"
      },
      "source": [
        "df.target.value_counts()"
      ],
      "execution_count": 6,
      "outputs": [
        {
          "output_type": "execute_result",
          "data": {
            "text/plain": [
              "1    165\n",
              "0    138\n",
              "Name: target, dtype: int64"
            ]
          },
          "metadata": {},
          "execution_count": 6
        }
      ]
    },
    {
      "cell_type": "markdown",
      "metadata": {
        "id": "FKMftmFxfL0h"
      },
      "source": [
        "Contoh Visualisasi pasien pengidap penyakti jantung berdasarkan jenis kelamin"
      ]
    },
    {
      "cell_type": "code",
      "metadata": {
        "colab": {
          "base_uri": "https://localhost:8080/",
          "height": 279
        },
        "id": "KRtTdj1sdaS4",
        "outputId": "3502c863-821e-42a7-9b3d-144894333c42"
      },
      "source": [
        "sns.countplot(x='sex', data=df, palette=\"bwr\")\n",
        "plt.xlabel(\"Sex (0 = female, 1= male)\")\n",
        "plt.show()"
      ],
      "execution_count": 7,
      "outputs": [
        {
          "output_type": "display_data",
          "data": {
            "image/png": "[encoded data removed]",
            "text/plain": [
              "<Figure size 432x288 with 1 Axes>"
            ]
          },
          "metadata": {
            "needs_background": "light"
          }
        }
      ]
    },
    {
      "cell_type": "code",
      "metadata": {
        "colab": {
          "base_uri": "https://localhost:8080/"
        },
        "id": "LdpaO-IQO_PK",
        "outputId": "aedb82f2-991a-48fb-aa99-bff92b70c171"
      },
      "source": [
        "df.isnull().sum()"
      ],
      "execution_count": 8,
      "outputs": [
        {
          "output_type": "execute_result",
          "data": {
            "text/plain": [
              "age         0\n",
              "sex         0\n",
              "cp          0\n",
              "trestbps    0\n",
              "chol        0\n",
              "fbs         0\n",
              "restecg     0\n",
              "thalach     0\n",
              "exang       0\n",
              "oldpeak     0\n",
              "slope       0\n",
              "ca          0\n",
              "thal        0\n",
              "target      0\n",
              "dtype: int64"
            ]
          },
          "metadata": {},
          "execution_count": 8
        }
      ]
    },
    {
      "cell_type": "markdown",
      "metadata": {
        "id": "HoxFMb3KfYFH"
      },
      "source": [
        "Menentukan variabel independen"
      ]
    },
    {
      "cell_type": "code",
      "metadata": {
        "colab": {
          "base_uri": "https://localhost:8080/"
        },
        "id": "uWH-ZecNPlNx",
        "outputId": "dc776198-895e-4b4c-cee6-9421db80cf88"
      },
      "source": [
        "x = df.drop([\"target\"], axis = 1)\n",
        "y = df.target\n",
        "\n",
        "x_train, x_test, y_train, y_test = train_test_split(x,y, test_size=0.2, random_state=123)\n",
        "\n",
        "len(x_test), len(x_train)"
      ],
      "execution_count": 9,
      "outputs": [
        {
          "output_type": "execute_result",
          "data": {
            "text/plain": [
              "(61, 242)"
            ]
          },
          "metadata": {},
          "execution_count": 9
        }
      ]
    },
    {
      "cell_type": "markdown",
      "metadata": {
        "id": "XQRZ3obAQLae"
      },
      "source": [
        "## Naive Bayes"
      ]
    },
    {
      "cell_type": "code",
      "metadata": {
        "colab": {
          "base_uri": "https://localhost:8080/"
        },
        "id": "105beBNPPhDy",
        "outputId": "de8f0493-3310-48ee-9507-60fc9acd7a62"
      },
      "source": [
        "from sklearn.naive_bayes import GaussianNB\n",
        "\n",
        "gnb = GaussianNB()\n",
        "\n",
        "gnb.fit(x_train, y_train)\n",
        "\n",
        "y_pred = gnb.predict(x_test)\n",
        "y_pred"
      ],
      "execution_count": 10,
      "outputs": [
        {
          "output_type": "execute_result",
          "data": {
            "text/plain": [
              "array([1, 0, 0, 0, 1, 0, 1, 0, 1, 0, 0, 1, 0, 0, 0, 0, 0, 0, 0, 1, 1, 0,\n",
              "       1, 0, 0, 0, 0, 0, 0, 0, 0, 1, 1, 0, 1, 1, 1, 1, 1, 1, 1, 1, 0, 1,\n",
              "       1, 0, 0, 0, 1, 1, 0, 0, 1, 0, 1, 1, 0, 1, 0, 1, 0])"
            ]
          },
          "metadata": {},
          "execution_count": 10
        }
      ]
    },
    {
      "cell_type": "markdown",
      "metadata": {
        "id": "gfZI4VPPfl3W"
      },
      "source": [
        "Melihat nilai sebenarnya sebelum diprediksi"
      ]
    },
    {
      "cell_type": "code",
      "metadata": {
        "colab": {
          "base_uri": "https://localhost:8080/"
        },
        "id": "JSYRcWoNULJZ",
        "outputId": "993141dc-9a02-41d9-8d7a-b863981c1c41"
      },
      "source": [
        "y_actual = np.array(y_test)\n",
        "y_actual"
      ],
      "execution_count": 11,
      "outputs": [
        {
          "output_type": "execute_result",
          "data": {
            "text/plain": [
              "array([1, 0, 0, 0, 1, 0, 1, 1, 1, 0, 0, 1, 0, 0, 0, 0, 1, 0, 0, 1, 1, 0,\n",
              "       1, 1, 0, 0, 0, 0, 0, 1, 0, 1, 1, 0, 0, 1, 1, 1, 1, 1, 1, 0, 0, 1,\n",
              "       1, 0, 0, 0, 1, 1, 0, 0, 1, 1, 0, 1, 1, 1, 0, 1, 1])"
            ]
          },
          "metadata": {},
          "execution_count": 11
        }
      ]
    },
    {
      "cell_type": "markdown",
      "metadata": {
        "id": "5BPlvh5MfzAs"
      },
      "source": [
        "Melihat berapa probabilitas hasil prediksi data testing"
      ]
    },
    {
      "cell_type": "code",
      "metadata": {
        "colab": {
          "base_uri": "https://localhost:8080/"
        },
        "id": "IToHwA_AUTIy",
        "outputId": "5e3f2e9c-a08b-4018-d657-09986e8d1cc6"
      },
      "source": [
        "gnb.predict_proba(x_test)"
      ],
      "execution_count": 12,
      "outputs": [
        {
          "output_type": "execute_result",
          "data": {
            "text/plain": [
              "array([[5.82571613e-04, 9.99417428e-01],\n",
              "       [9.99240610e-01, 7.59390366e-04],\n",
              "       [9.99938869e-01, 6.11309321e-05],\n",
              "       [9.99992658e-01, 7.34177465e-06],\n",
              "       [3.63366729e-03, 9.96366333e-01],\n",
              "       [9.99951069e-01, 4.89308903e-05],\n",
              "       [8.58720034e-03, 9.91412800e-01],\n",
              "       [5.98819913e-01, 4.01180087e-01],\n",
              "       [5.96228807e-04, 9.99403771e-01],\n",
              "       [9.33511439e-01, 6.64885614e-02],\n",
              "       [9.97942318e-01, 2.05768198e-03],\n",
              "       [4.57117589e-01, 5.42882411e-01],\n",
              "       [9.99999986e-01, 1.36224796e-08],\n",
              "       [9.99995730e-01, 4.26988712e-06],\n",
              "       [5.16991611e-01, 4.83008389e-01],\n",
              "       [1.00000000e+00, 5.08353833e-11],\n",
              "       [9.10174530e-01, 8.98254697e-02],\n",
              "       [9.86808541e-01, 1.31914589e-02],\n",
              "       [5.72076923e-01, 4.27923077e-01],\n",
              "       [2.24348439e-01, 7.75651561e-01],\n",
              "       [1.35283843e-01, 8.64716157e-01],\n",
              "       [9.99163302e-01, 8.36698360e-04],\n",
              "       [4.11827050e-05, 9.99958817e-01],\n",
              "       [9.82142245e-01, 1.78577552e-02],\n",
              "       [9.87487847e-01, 1.25121528e-02],\n",
              "       [6.12756815e-01, 3.87243185e-01],\n",
              "       [9.98445679e-01, 1.55432096e-03],\n",
              "       [5.27229563e-01, 4.72770437e-01],\n",
              "       [9.99999798e-01, 2.01877057e-07],\n",
              "       [8.92625300e-01, 1.07374700e-01],\n",
              "       [9.99977531e-01, 2.24690154e-05],\n",
              "       [2.83019736e-01, 7.16980264e-01],\n",
              "       [6.30801388e-02, 9.36919861e-01],\n",
              "       [9.99898787e-01, 1.01213253e-04],\n",
              "       [3.84301563e-01, 6.15698437e-01],\n",
              "       [2.48969111e-04, 9.99751031e-01],\n",
              "       [3.27891000e-02, 9.67210900e-01],\n",
              "       [1.25745349e-01, 8.74254651e-01],\n",
              "       [2.46760601e-04, 9.99753239e-01],\n",
              "       [2.15045133e-02, 9.78495487e-01],\n",
              "       [6.63584159e-04, 9.99336416e-01],\n",
              "       [4.14585955e-01, 5.85414045e-01],\n",
              "       [9.99647022e-01, 3.52978207e-04],\n",
              "       [5.65078130e-04, 9.99434922e-01],\n",
              "       [9.19585446e-03, 9.90804146e-01],\n",
              "       [9.87381063e-01, 1.26189369e-02],\n",
              "       [9.99990910e-01, 9.09037606e-06],\n",
              "       [7.91427151e-01, 2.08572849e-01],\n",
              "       [1.38836067e-02, 9.86116393e-01],\n",
              "       [9.89442682e-03, 9.90105573e-01],\n",
              "       [9.96646980e-01, 3.35301971e-03],\n",
              "       [9.98756337e-01, 1.24366336e-03],\n",
              "       [6.90049722e-04, 9.99309950e-01],\n",
              "       [5.95604279e-01, 4.04395721e-01],\n",
              "       [8.21909495e-02, 9.17809050e-01],\n",
              "       [1.52842321e-01, 8.47157679e-01],\n",
              "       [9.95476149e-01, 4.52385096e-03],\n",
              "       [2.45417179e-02, 9.75458282e-01],\n",
              "       [9.92418418e-01, 7.58158236e-03],\n",
              "       [8.00379195e-02, 9.19962080e-01],\n",
              "       [9.97808961e-01, 2.19103887e-03]])"
            ]
          },
          "metadata": {},
          "execution_count": 12
        }
      ]
    },
    {
      "cell_type": "markdown",
      "metadata": {
        "id": "S2ClIL8Gf40m"
      },
      "source": [
        "Confussion Matrix"
      ]
    },
    {
      "cell_type": "code",
      "metadata": {
        "colab": {
          "base_uri": "https://localhost:8080/"
        },
        "id": "rZyiAqoLQyDw",
        "outputId": "0c6b72b5-3956-45c3-d8ed-8fee2b3e0b51"
      },
      "source": [
        "from sklearn.metrics import confusion_matrix\n",
        "cm = confusion_matrix(y_pred, y_test)\n",
        "cm"
      ],
      "execution_count": 13,
      "outputs": [
        {
          "output_type": "execute_result",
          "data": {
            "text/plain": [
              "array([[27,  7],\n",
              "       [ 3, 24]])"
            ]
          },
          "metadata": {},
          "execution_count": 13
        }
      ]
    },
    {
      "cell_type": "code",
      "metadata": {
        "colab": {
          "base_uri": "https://localhost:8080/",
          "height": 142
        },
        "id": "5nxy-0IueGbR",
        "outputId": "97d26a34-5a3c-4e62-ae61-d037e540ab82"
      },
      "source": [
        "y_actual = pd.Series(y_actual, name = \"actual\")\n",
        "y_pred = pd.Series(y_pred, name = \"prediction\")\n",
        "df_confusion = pd.crosstab(y_actual, y_pred)\n",
        "df_confusion"
      ],
      "execution_count": 14,
      "outputs": [
        {
          "output_type": "execute_result",
          "data": {
            "text/html": [
              "<div>\n",
              "<style scoped>\n",
              "    .dataframe tbody tr th:only-of-type {\n",
              "        vertical-align: middle;\n",
              "    }\n",
              "\n",
              "    .dataframe tbody tr th {\n",
              "        vertical-align: top;\n",
              "    }\n",
              "\n",
              "    .dataframe thead th {\n",
              "        text-align: right;\n",
              "    }\n",
              "</style>\n",
              "<table border=\"1\" class=\"dataframe\">\n",
              "  <thead>\n",
              "    <tr style=\"text-align: right;\">\n",
              "      <th>prediction</th>\n",
              "      <th>0</th>\n",
              "      <th>1</th>\n",
              "    </tr>\n",
              "    <tr>\n",
              "      <th>actual</th>\n",
              "      <th></th>\n",
              "      <th></th>\n",
              "    </tr>\n",
              "  </thead>\n",
              "  <tbody>\n",
              "    <tr>\n",
              "      <th>0</th>\n",
              "      <td>27</td>\n",
              "      <td>3</td>\n",
              "    </tr>\n",
              "    <tr>\n",
              "      <th>1</th>\n",
              "      <td>7</td>\n",
              "      <td>24</td>\n",
              "    </tr>\n",
              "  </tbody>\n",
              "</table>\n",
              "</div>"
            ],
            "text/plain": [
              "prediction   0   1\n",
              "actual            \n",
              "0           27   3\n",
              "1            7  24"
            ]
          },
          "metadata": {},
          "execution_count": 14
        }
      ]
    },
    {
      "cell_type": "markdown",
      "metadata": {
        "id": "c5Fc1OYYf7T6"
      },
      "source": [
        "Nilai Akurasi"
      ]
    },
    {
      "cell_type": "code",
      "metadata": {
        "colab": {
          "base_uri": "https://localhost:8080/"
        },
        "id": "Mc9dD150eYQN",
        "outputId": "0450b278-3ff4-4c31-8d31-bb02c963cb9d"
      },
      "source": [
        "from sklearn import metrics\n",
        "\n",
        "print(\"Accuracy:\",metrics.accuracy_score(y_test, y_pred))"
      ],
      "execution_count": 15,
      "outputs": [
        {
          "output_type": "stream",
          "name": "stdout",
          "text": [
            "Accuracy: 0.8360655737704918\n"
          ]
        }
      ]
    },
    {
      "cell_type": "markdown",
      "metadata": {
        "id": "xBYQAiQ3gF6A"
      },
      "source": [
        "## Bayesian Network"
      ]
    },
    {
      "cell_type": "code",
      "metadata": {
        "colab": {
          "base_uri": "https://localhost:8080/"
        },
        "id": "RUTZkxeugIQo",
        "outputId": "55511f1a-6a30-4363-f0b6-f387aec123de"
      },
      "source": [
        "!pip install pybbn\n",
        "import networkx as nx\n",
        "\n",
        "from pybbn.graph.dag import Bbn\n",
        "from pybbn.graph.edge import Edge, EdgeType\n",
        "from pybbn.graph.jointree import EvidenceBuilder\n",
        "from pybbn.graph.node import BbnNode\n",
        "from pybbn.graph.variable import Variable\n",
        "from pybbn.pptc.inferencecontroller import InferenceController"
      ],
      "execution_count": 16,
      "outputs": [
        {
          "output_type": "stream",
          "name": "stdout",
          "text": [
            "Collecting pybbn\n",
            "  Downloading pybbn-3.2.1.tar.gz (35 kB)\n",
            "Requirement already satisfied: numpy in /usr/local/lib/python3.7/dist-packages (from pybbn) (1.19.5)\n",
            "Requirement already satisfied: scipy in /usr/local/lib/python3.7/dist-packages (from pybbn) (1.4.1)\n",
            "Requirement already satisfied: networkx in /usr/local/lib/python3.7/dist-packages (from pybbn) (2.6.3)\n",
            "Requirement already satisfied: pandas in /usr/local/lib/python3.7/dist-packages (from pybbn) (1.1.5)\n",
            "Requirement already satisfied: pytz>=2017.2 in /usr/local/lib/python3.7/dist-packages (from pandas->pybbn) (2018.9)\n",
            "Requirement already satisfied: python-dateutil>=2.7.3 in /usr/local/lib/python3.7/dist-packages (from pandas->pybbn) (2.8.2)\n",
            "Requirement already satisfied: six>=1.5 in /usr/local/lib/python3.7/dist-packages (from python-dateutil>=2.7.3->pandas->pybbn) (1.15.0)\n",
            "Building wheels for collected packages: pybbn\n",
            "  Building wheel for pybbn (setup.py) ... \u001b[?25l\u001b[?25hdone\n",
            "  Created wheel for pybbn: filename=pybbn-3.2.1-py3-none-any.whl size=39726 sha256=6c630d2155bbc19f324c3fa280da29aa5c898670630cc2bdaf46602d4371436b\n",
            "  Stored in directory: /root/.cache/pip/wheels/a8/64/55/b52530d41fe7c9ae501ddd7c06f3122ceb5f15921680f0371b\n",
            "Successfully built pybbn\n",
            "Installing collected packages: pybbn\n",
            "Successfully installed pybbn-3.2.1\n"
          ]
        }
      ]
    },
    {
      "cell_type": "code",
      "metadata": {
        "colab": {
          "base_uri": "https://localhost:8080/",
          "height": 142
        },
        "id": "xXxnUnPOgTxA",
        "outputId": "dc27394d-f7d2-45b3-edd6-1ef2dab014f8"
      },
      "source": [
        "df.head(3)"
      ],
      "execution_count": 17,
      "outputs": [
        {
          "output_type": "execute_result",
          "data": {
            "text/html": [
              "<div>\n",
              "<style scoped>\n",
              "    .dataframe tbody tr th:only-of-type {\n",
              "        vertical-align: middle;\n",
              "    }\n",
              "\n",
              "    .dataframe tbody tr th {\n",
              "        vertical-align: top;\n",
              "    }\n",
              "\n",
              "    .dataframe thead th {\n",
              "        text-align: right;\n",
              "    }\n",
              "</style>\n",
              "<table border=\"1\" class=\"dataframe\">\n",
              "  <thead>\n",
              "    <tr style=\"text-align: right;\">\n",
              "      <th></th>\n",
              "      <th>age</th>\n",
              "      <th>sex</th>\n",
              "      <th>cp</th>\n",
              "      <th>trestbps</th>\n",
              "      <th>chol</th>\n",
              "      <th>fbs</th>\n",
              "      <th>restecg</th>\n",
              "      <th>thalach</th>\n",
              "      <th>exang</th>\n",
              "      <th>oldpeak</th>\n",
              "      <th>slope</th>\n",
              "      <th>ca</th>\n",
              "      <th>thal</th>\n",
              "      <th>target</th>\n",
              "    </tr>\n",
              "  </thead>\n",
              "  <tbody>\n",
              "    <tr>\n",
              "      <th>0</th>\n",
              "      <td>63</td>\n",
              "      <td>1</td>\n",
              "      <td>3</td>\n",
              "      <td>145</td>\n",
              "      <td>233</td>\n",
              "      <td>1</td>\n",
              "      <td>0</td>\n",
              "      <td>150</td>\n",
              "      <td>0</td>\n",
              "      <td>2.3</td>\n",
              "      <td>0</td>\n",
              "      <td>0</td>\n",
              "      <td>1</td>\n",
              "      <td>1</td>\n",
              "    </tr>\n",
              "    <tr>\n",
              "      <th>1</th>\n",
              "      <td>37</td>\n",
              "      <td>1</td>\n",
              "      <td>2</td>\n",
              "      <td>130</td>\n",
              "      <td>250</td>\n",
              "      <td>0</td>\n",
              "      <td>1</td>\n",
              "      <td>187</td>\n",
              "      <td>0</td>\n",
              "      <td>3.5</td>\n",
              "      <td>0</td>\n",
              "      <td>0</td>\n",
              "      <td>2</td>\n",
              "      <td>1</td>\n",
              "    </tr>\n",
              "    <tr>\n",
              "      <th>2</th>\n",
              "      <td>41</td>\n",
              "      <td>0</td>\n",
              "      <td>1</td>\n",
              "      <td>130</td>\n",
              "      <td>204</td>\n",
              "      <td>0</td>\n",
              "      <td>0</td>\n",
              "      <td>172</td>\n",
              "      <td>0</td>\n",
              "      <td>1.4</td>\n",
              "      <td>2</td>\n",
              "      <td>0</td>\n",
              "      <td>2</td>\n",
              "      <td>1</td>\n",
              "    </tr>\n",
              "  </tbody>\n",
              "</table>\n",
              "</div>"
            ],
            "text/plain": [
              "   age  sex  cp  trestbps  chol  fbs  ...  exang  oldpeak  slope  ca  thal  target\n",
              "0   63    1   3       145   233    1  ...      0      2.3      0   0     1       1\n",
              "1   37    1   2       130   250    0  ...      0      3.5      0   0     2       1\n",
              "2   41    0   1       130   204    0  ...      0      1.4      2   0     2       1\n",
              "\n",
              "[3 rows x 14 columns]"
            ]
          },
          "metadata": {},
          "execution_count": 17
        }
      ]
    },
    {
      "cell_type": "code",
      "metadata": {
        "colab": {
          "base_uri": "https://localhost:8080/"
        },
        "id": "oNl-Fn9Ppc-J",
        "outputId": "bbe2b8db-9cea-4b0a-86ef-2f4ade05957f"
      },
      "source": [
        "df.target.value_counts(normalize=True).sort_index()"
      ],
      "execution_count": 18,
      "outputs": [
        {
          "output_type": "execute_result",
          "data": {
            "text/plain": [
              "0    0.455446\n",
              "1    0.544554\n",
              "Name: target, dtype: float64"
            ]
          },
          "metadata": {},
          "execution_count": 18
        }
      ]
    },
    {
      "cell_type": "code",
      "metadata": {
        "colab": {
          "base_uri": "https://localhost:8080/",
          "height": 295
        },
        "id": "qjzsHq4Shz5f",
        "outputId": "b590d7ee-0714-41e9-ad1f-08221e8af5e4"
      },
      "source": [
        "df[[\"age\",\"trestbps\",\"chol\",\"thalach\"]].describe()"
      ],
      "execution_count": 19,
      "outputs": [
        {
          "output_type": "execute_result",
          "data": {
            "text/html": [
              "<div>\n",
              "<style scoped>\n",
              "    .dataframe tbody tr th:only-of-type {\n",
              "        vertical-align: middle;\n",
              "    }\n",
              "\n",
              "    .dataframe tbody tr th {\n",
              "        vertical-align: top;\n",
              "    }\n",
              "\n",
              "    .dataframe thead th {\n",
              "        text-align: right;\n",
              "    }\n",
              "</style>\n",
              "<table border=\"1\" class=\"dataframe\">\n",
              "  <thead>\n",
              "    <tr style=\"text-align: right;\">\n",
              "      <th></th>\n",
              "      <th>age</th>\n",
              "      <th>trestbps</th>\n",
              "      <th>chol</th>\n",
              "      <th>thalach</th>\n",
              "    </tr>\n",
              "  </thead>\n",
              "  <tbody>\n",
              "    <tr>\n",
              "      <th>count</th>\n",
              "      <td>303.000000</td>\n",
              "      <td>303.000000</td>\n",
              "      <td>303.000000</td>\n",
              "      <td>303.000000</td>\n",
              "    </tr>\n",
              "    <tr>\n",
              "      <th>mean</th>\n",
              "      <td>54.366337</td>\n",
              "      <td>131.623762</td>\n",
              "      <td>246.264026</td>\n",
              "      <td>149.646865</td>\n",
              "    </tr>\n",
              "    <tr>\n",
              "      <th>std</th>\n",
              "      <td>9.082101</td>\n",
              "      <td>17.538143</td>\n",
              "      <td>51.830751</td>\n",
              "      <td>22.905161</td>\n",
              "    </tr>\n",
              "    <tr>\n",
              "      <th>min</th>\n",
              "      <td>29.000000</td>\n",
              "      <td>94.000000</td>\n",
              "      <td>126.000000</td>\n",
              "      <td>71.000000</td>\n",
              "    </tr>\n",
              "    <tr>\n",
              "      <th>25%</th>\n",
              "      <td>47.500000</td>\n",
              "      <td>120.000000</td>\n",
              "      <td>211.000000</td>\n",
              "      <td>133.500000</td>\n",
              "    </tr>\n",
              "    <tr>\n",
              "      <th>50%</th>\n",
              "      <td>55.000000</td>\n",
              "      <td>130.000000</td>\n",
              "      <td>240.000000</td>\n",
              "      <td>153.000000</td>\n",
              "    </tr>\n",
              "    <tr>\n",
              "      <th>75%</th>\n",
              "      <td>61.000000</td>\n",
              "      <td>140.000000</td>\n",
              "      <td>274.500000</td>\n",
              "      <td>166.000000</td>\n",
              "    </tr>\n",
              "    <tr>\n",
              "      <th>max</th>\n",
              "      <td>77.000000</td>\n",
              "      <td>200.000000</td>\n",
              "      <td>564.000000</td>\n",
              "      <td>202.000000</td>\n",
              "    </tr>\n",
              "  </tbody>\n",
              "</table>\n",
              "</div>"
            ],
            "text/plain": [
              "              age    trestbps        chol     thalach\n",
              "count  303.000000  303.000000  303.000000  303.000000\n",
              "mean    54.366337  131.623762  246.264026  149.646865\n",
              "std      9.082101   17.538143   51.830751   22.905161\n",
              "min     29.000000   94.000000  126.000000   71.000000\n",
              "25%     47.500000  120.000000  211.000000  133.500000\n",
              "50%     55.000000  130.000000  240.000000  153.000000\n",
              "75%     61.000000  140.000000  274.500000  166.000000\n",
              "max     77.000000  200.000000  564.000000  202.000000"
            ]
          },
          "metadata": {},
          "execution_count": 19
        }
      ]
    },
    {
      "cell_type": "markdown",
      "metadata": {
        "id": "-arLdQFMp8xt"
      },
      "source": [
        "Setelah searching saya dapatkan bahwa detak jantung (thalach) juga dipengaruhi oleh usia (age), dan Kolesterol (chol) tinggi dalam darah juga berhubungan dengan tekanan darah tinggi.\n",
        "\n",
        "Kemudian tekanan darah dan frekuensi detak jantung dapat dijadikan tanda awal serangan jantung"
      ]
    },
    {
      "cell_type": "code",
      "metadata": {
        "id": "W6vJu7zGhnkb"
      },
      "source": [
        "df[\"ageCat\"] = df[\"age\"].apply(lambda x: '0.<=45' if x<=45 else '1.45-60' if 45<x<60 else '2.>60')\n",
        "df[\"trestbpsCat\"] = df[\"trestbps\"].apply(lambda x: '1.>130' if x>130 else '0.<130')\n",
        "df[\"thalachCat\"] = df[\"thalach\"].apply(lambda x:'0.<=130' if x<=130 else '1.130-165' if 130<x<165 else '2.>165')\n",
        "df[\"cholCat\"] = df[\"chol\"].apply(lambda x: '0.<=200' if x<=200 else '1.200-240' if 200<x<240 else '2.>240')"
      ],
      "execution_count": 20,
      "outputs": []
    },
    {
      "cell_type": "code",
      "metadata": {
        "colab": {
          "base_uri": "https://localhost:8080/"
        },
        "id": "cXYKYbhvkA-T",
        "outputId": "4e48b09e-ff13-4bda-ccd9-cd47ed641abd"
      },
      "source": [
        "df[\"ageCat\"].value_counts().sort_index()"
      ],
      "execution_count": 21,
      "outputs": [
        {
          "output_type": "execute_result",
          "data": {
            "text/plain": [
              "0.<=45      64\n",
              "1.45-60    149\n",
              "2.>60       90\n",
              "Name: ageCat, dtype: int64"
            ]
          },
          "metadata": {},
          "execution_count": 21
        }
      ]
    },
    {
      "cell_type": "code",
      "metadata": {
        "id": "QtI3QJBNkI6q"
      },
      "source": [
        "def probs(data, child, parent1=None, parent2=None):\n",
        "  if parent1==None:\n",
        "    prob = pd.crosstab(data[child], 'Empty', margins=False, normalize='columns').sort_index().to_numpy().reshape(-1).tolist()\n",
        "  elif parent1!=None:\n",
        "    if parent2==None:\n",
        "      prob=pd.crosstab(data[parent1], data[child], margins=False, normalize='index').sort_index().to_numpy().reshape(-1).tolist()\n",
        "    else:\n",
        "      prob=pd.crosstab([data[parent1], data[parent2]], data[child], margins=False, normalize='index').sort_index().to_numpy().reshape(-1).tolist()\n",
        "  else: print(\"Error menghitung frekuensi probabilitas\")\n",
        "  return prob"
      ],
      "execution_count": 22,
      "outputs": []
    },
    {
      "cell_type": "code",
      "metadata": {
        "id": "UfBscHW5kKbQ"
      },
      "source": [
        "age = BbnNode(Variable(0, 'age', ['<=45','45-60' '>60']), probs(df, child=\"ageCat\"))\n",
        "chol = BbnNode(Variable(1, 'chol', ['<=200','200-240' '>240']), probs(df, child=\"cholCat\"))\n",
        "thalach = BbnNode(Variable(2, 'thalach', ['<=130','130-165' '>165']), probs(df, child=\"thalachCat\", parent1=\"ageCat\"))\n",
        "trestbps = BbnNode(Variable(3, 'trestbps', ['<=130', '>130']), probs(df, child=\"trestbpsCat\", parent1=\"cholCat\"))\n",
        "HA = BbnNode(Variable(4, 'HA', ['No', 'Yes']), probs(df, child=\"target\", parent1=\"thalachCat\", parent2=\"trestbpsCat\"))\n",
        "\n",
        "bbn = Bbn() \\\n",
        "      .add_node(age) \\\n",
        "      .add_node(thalach) \\\n",
        "      .add_node(chol) \\\n",
        "      .add_node(trestbps) \\\n",
        "      .add_node(HA) \\\n",
        "      .add_edge(Edge(age, thalach, EdgeType.DIRECTED)) \\\n",
        "      .add_edge(Edge(thalach, HA, EdgeType.DIRECTED)) \\\n",
        "      .add_edge(Edge(chol, trestbps, EdgeType.DIRECTED)) \\\n",
        "      .add_edge(Edge(trestbps, HA, EdgeType.DIRECTED))\n",
        "\n",
        "# Convert BBN to Join Tree\n",
        "join_tree = InferenceController.apply(bbn)"
      ],
      "execution_count": 23,
      "outputs": []
    },
    {
      "cell_type": "code",
      "metadata": {
        "colab": {
          "base_uri": "https://localhost:8080/",
          "height": 319
        },
        "id": "WDitJWLGoFcA",
        "outputId": "a76c8815-a4d9-447c-e93b-8bf1e6daaf90"
      },
      "source": [
        "# Set node position\n",
        "pos = {0: (-1, 2), 1:(1,2), 2:(-1,0.5),3:(1,0.5), 4:(0,-1)}\n",
        "\n",
        "# Set Options for graph looks\n",
        "options = {\n",
        "    \"font_size\": 16,\n",
        "    \"node_size\": 4000, \n",
        "    \"node_color\": \"black\",\n",
        "    \"edgecolors\": \"black\",\n",
        "    \"edge_color\": \"red\",\n",
        "    \"font_color\": \"white\",\n",
        "    \"linewidths\": 5,\n",
        "    \"width\": 5}\n",
        "\n",
        "# Generate Graph\n",
        "n, d = bbn.to_nx_graph()\n",
        "nx.draw(n, with_labels=True, labels=d, pos=pos, **options)\n",
        "\n",
        "# Update margins and print the graph\n",
        "ax = plt.gca()\n",
        "ax.margins(0.10)\n",
        "plt.axis(\"off\")\n",
        "plt.show()"
      ],
      "execution_count": 24,
      "outputs": [
        {
          "output_type": "display_data",
          "data": {
            "image/png": "[encoded data removed]",
            "text/plain": [
              "<Figure size 432x288 with 1 Axes>"
            ]
          },
          "metadata": {}
        }
      ]
    },
    {
      "cell_type": "markdown",
      "metadata": {
        "id": "IxOUDsTIrF3m"
      },
      "source": [
        "Plot Probabilitas Heart Attack"
      ]
    },
    {
      "cell_type": "code",
      "metadata": {
        "colab": {
          "base_uri": "https://localhost:8080/"
        },
        "id": "JA1y2EvXo0ms",
        "outputId": "c2e9d5e7-01d2-4b99-bd93-112ae7eaf25a"
      },
      "source": [
        "def print_probs():\n",
        "    for node in join_tree.get_bbn_nodes():\n",
        "        potential = join_tree.get_bbn_potential(node)\n",
        "        print(\"Node:\", node)\n",
        "        print(\"Values:\")\n",
        "        print(potential)\n",
        "        print('----------------')\n",
        "        \n",
        "print_probs()"
      ],
      "execution_count": 25,
      "outputs": [
        {
          "output_type": "stream",
          "name": "stdout",
          "text": [
            "Node: 2|thalach|<=130,130-165>165\n",
            "Values:\n",
            "2=<=130|0.63382\n",
            "2=130-165>165|0.36618\n",
            "----------------\n",
            "Node: 0|age|<=45,45-60>60\n",
            "Values:\n",
            "0=<=45|0.17631\n",
            "0=45-60>60|0.82369\n",
            "----------------\n",
            "Node: 3|trestbps|<=130,>130\n",
            "Values:\n",
            "3=<=130|0.58108\n",
            "3=>130|0.41892\n",
            "----------------\n",
            "Node: 1|chol|<=200,200-240>240\n",
            "Values:\n",
            "1=<=200|0.34459\n",
            "1=200-240>240|0.65541\n",
            "----------------\n",
            "Node: 4|HA|No,Yes\n",
            "Values:\n",
            "4=No|0.64323\n",
            "4=Yes|0.35677\n",
            "----------------\n"
          ]
        }
      ]
    }
  ]
}